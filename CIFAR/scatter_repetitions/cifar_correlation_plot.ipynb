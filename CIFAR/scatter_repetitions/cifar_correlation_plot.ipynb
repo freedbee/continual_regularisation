{
 "cells": [
  {
   "cell_type": "code",
   "execution_count": 1,
   "metadata": {},
   "outputs": [
    {
     "name": "stderr",
     "output_type": "stream",
     "text": [
      "Using TensorFlow backend.\n"
     ]
    }
   ],
   "source": [
    "import pickle\n",
    "import scipy.stats\n",
    "import numpy as np\n",
    "import matplotlib.pyplot as plt\n",
    "import matplotlib as mpl\n",
    "import os\n",
    "import utils \n",
    "%matplotlib inline\n",
    "  "
   ]
  },
  {
   "cell_type": "code",
   "execution_count": 2,
   "metadata": {},
   "outputs": [],
   "source": [
    "meta = 'run_new'\n",
    "corrs_mean_all = {}\n",
    "corrs_std_all = {}\n",
    "label_dict = {}\n",
    "\n",
    "for name in ['all_correlations_MAS_','all_correlations_SI_']:\n",
    "    all_corrs = {}\n",
    "    corrs_mean = {}\n",
    "    corrs_std = {}\n",
    "\n",
    "    #init\n",
    "    for seed in np.arange(100,101,1):\n",
    "        with open(name+meta+str(seed)+'.pickle', 'rb') as f:\n",
    "            D = pickle.load(f)\n",
    "        for key1 in D.keys():\n",
    "            all_corrs[key1] ={}\n",
    "            corrs_mean[key1] ={}\n",
    "            corrs_std[key1] ={}\n",
    "            for key2 in D[key1].keys():\n",
    "                all_corrs[key1][key2] ={}\n",
    "                corrs_mean[key1][key2] ={}\n",
    "                corrs_std[key1][key2] ={}\n",
    "                for task in range(len(D[key1][key2])):\n",
    "                    all_corrs[key1][key2][task] = []\n",
    "                    #corrs_mean[key1][key2][task] = {}\n",
    "                    #corrs_std[key1][key2][task] = {}\n",
    "\n",
    "    #fill\n",
    "    for seed in np.arange(100,101,1):\n",
    "        with open(name+meta+str(seed)+'.pickle', 'rb') as f:\n",
    "            D = pickle.load(f)\n",
    "        for key1 in D.keys():\n",
    "            for key2 in D[key1].keys():\n",
    "                for task in range(len(D[key1][key2])):\n",
    "                    all_corrs[key1][key2][task].append(D[key1][key2][task])\n",
    "\n",
    "\n",
    "    #summarise  \n",
    "    for key1 in D.keys():\n",
    "        for key2 in D[key1].keys():\n",
    "            for task in range(len(D[key1][key2])):\n",
    "                corrs_mean[key1][key2][task] = np.mean(all_corrs[key1][key2][task])\n",
    "                corrs_std[key1][key2][task] = np.std(all_corrs[key1][key2][task])\n",
    "\n",
    "\n",
    "    corrs_mean_all =   {**corrs_mean_all, **corrs_mean }\n",
    "    corrs_std_all =   {**corrs_std_all, **corrs_std }\n",
    "    for kk in D.keys():\n",
    "        label_dict[kk] = kk\n",
    "    for kk in label_dict.keys():\n",
    "        if '-N' in kk:\n",
    "            label_dict[kk] = kk[:-2]\n",
    "            label_dict[kk] += '-r'\n",
    "corrs_mean = corrs_mean_all \n",
    "corrs_std = corrs_std_all \n",
    "   \n",
    "\n",
    "\n",
    "label_dict['RSM']  = r'SOS ($\\sqrt{v_t}$)'\n",
    "label_dict['rEWC']  = r'$\\sqrt{Fisher}$'\n",
    "label_dict['AF']  = r'AF'"
   ]
  },
  {
   "cell_type": "code",
   "execution_count": 3,
   "metadata": {},
   "outputs": [],
   "source": [
    "#see cifar_scatter_plot.ipynb for meaning of RSM, SI-N, etc\n",
    "\n",
    "\n",
    "plotted_pairs = [('SI', 'RSM'), ('SIB', 'RSM'), ('SIU', 'RSM')]\n",
    "colors = ['xkcd:blue', 'xkcd:green', 'xkcd:brown']\n",
    "plot_name = 'SI_SOS'\n",
    "y_t = [0.0,0.5,1.0]\n",
    "size = [6,4]"
   ]
  },
  {
   "cell_type": "code",
   "execution_count": 5,
   "metadata": {},
   "outputs": [],
   "source": [
    "plotted_pairs = [('SI-N', 'RSM'), ('SIB-N', 'RSM'), ('SIU-N', 'RSM')]\n",
    "colors = ['xkcd:blue', 'xkcd:green', 'xkcd:brown']\n",
    "plot_name = 'SI_SOS_rescale'\n",
    "y_t = [0.0,0.5,1.0]\n",
    "size = [6,4]"
   ]
  },
  {
   "cell_type": "code",
   "execution_count": 9,
   "metadata": {},
   "outputs": [],
   "source": [
    "plotted_pairs = [('MAS', 'MASX'), ('MAS', 'AF'), ('MAS', 'rEWC')]\n",
    "colors = ['xkcd:purple', 'xkcd:green', 'xkcd:blue']\n",
    "plot_name = 'MAS'\n",
    "y_t = [0.9,1.0]\n",
    "size = [6,1]"
   ]
  },
  {
   "cell_type": "code",
   "execution_count": null,
   "metadata": {},
   "outputs": [],
   "source": []
  },
  {
   "cell_type": "code",
   "execution_count": 16,
   "metadata": {},
   "outputs": [],
   "source": [
    "plotted_pairs = [('MAS2', 'MASX2'), ('MAS2', 'AF'), ('MAS2', 'rEWC')]\n",
    "colors = ['xkcd:purple', 'xkcd:green', 'xkcd:blue']\n",
    "plot_name = 'MAS2'\n",
    "y_t = [0,0.5,1.0]\n",
    "size = [6,4]"
   ]
  },
  {
   "cell_type": "code",
   "execution_count": 10,
   "metadata": {},
   "outputs": [
    {
     "data": {
      "image/png": "[encoded data removed]",
      "text/plain": [
       "<Figure size 432x72 with 1 Axes>"
      ]
     },
     "metadata": {
      "needs_background": "light"
     },
     "output_type": "display_data"
    }
   ],
   "source": [
    "fig, ax = plt.subplots(figsize=size)\n",
    "fs = 20 #fontsize\n",
    "save_fig = True\n",
    "\n",
    "\n",
    "jj = -1\n",
    "for (a,b), c in zip(plotted_pairs, colors):\n",
    "    x_axis = np.arange(1,len(corrs_mean[a][b])+1,1)\n",
    "    y, y_err = [], []\n",
    "    for task in range(len(x_axis)):\n",
    "        y.append( corrs_mean[a][b][task] )\n",
    "        y_err.append( corrs_std[a][b][task]/np.sqrt(5) ) #division by sqrt 5 to turn st-dev into stderr\n",
    "    label = label_dict[a]+' & ' +label_dict[b]\n",
    "    ax.errorbar(x_axis+jj*0.1, y, yerr=y_err, capsize=2, fmt='*-', color=c, label=label)\n",
    "    jj+=1\n",
    "ax.legend(fontsize=18,loc=[-0.15,1.2],ncol=2)\n",
    "ax.set_xlabel('Task (Split CIFAR)', fontsize=fs)\n",
    "ax.set_ylabel('Pearson Corr.', fontsize=fs)\n",
    "ax.set_ylabel('Corr.', fontsize=fs)\n",
    "#yticks and axis\n",
    "ax.set_yticks(y_t)\n",
    "ax.set_yticklabels(y_t, fontsize=15)\n",
    "ax.set_ylim([y_t[0]-0.01, y_t[-1]+0.01])\n",
    "fig.show()\n",
    "\n",
    "if save_fig:\n",
    "    path = os.path.expanduser('~/figures/')\n",
    "    name2 = 'CIFAR_corr_'+plot_name+'.png'\n",
    "    plt.savefig(path+name2, bbox_inches='tight')\n",
    "\n"
   ]
  },
  {
   "cell_type": "markdown",
   "metadata": {},
   "source": [
    "# SI and Controls\n",
    "To gather data for this, 'correlations_scatter_compare.py' needs to be modified (both HPs and the 'meta' string at the beginning of the file.\n"
   ]
  },
  {
   "cell_type": "code",
   "execution_count": 6,
   "metadata": {},
   "outputs": [],
   "source": [
    "corrs_mean_all = {}\n",
    "corrs_std_all = {}\n",
    "label_dict = {}\n",
    "name2 = 'all_correlations_SI_run_new_'\n",
    "\n",
    "for meta in ['no-re','reg0','']:\n",
    "    name = name2\n",
    "    if meta == '':\n",
    "        name = name2[:-1]\n",
    "    all_corrs = {}\n",
    "    corrs_mean = {}\n",
    "    corrs_std = {}\n",
    "\n",
    "    #init\n",
    "    for seed in np.arange(100,101,1):\n",
    "        with open(name+meta+str(seed)+'.pickle', 'rb') as f:\n",
    "            D = pickle.load(f)\n",
    "        for key1 in D.keys():\n",
    "            all_corrs[key1] ={}\n",
    "            corrs_mean[key1] ={}\n",
    "            corrs_std[key1] ={}\n",
    "            for key2 in D[key1].keys():\n",
    "                all_corrs[key1][key2] ={}\n",
    "                corrs_mean[key1][key2] ={}\n",
    "                corrs_std[key1][key2] ={}\n",
    "                for task in range(len(D[key1][key2])):\n",
    "                    all_corrs[key1][key2][task] = []\n",
    "                    #corrs_mean[key1][key2][task] = {}\n",
    "                    #corrs_std[key1][key2][task] = {}\n",
    "\n",
    "    #fill\n",
    "    for seed in np.arange(100,105,1):\n",
    "        with open(name+meta+str(seed)+'.pickle', 'rb') as f:\n",
    "            D = pickle.load(f)\n",
    "        for key1 in D.keys():\n",
    "            for key2 in D[key1].keys():\n",
    "                for task in range(len(D[key1][key2])):\n",
    "                    all_corrs[key1][key2][task].append(D[key1][key2][task])\n",
    "\n",
    "\n",
    "    #summarise  \n",
    "    for key1 in D.keys():\n",
    "        for key2 in D[key1].keys():\n",
    "            for task in range(len(D[key1][key2])):\n",
    "                corrs_mean[key1][key2][task] = np.mean(all_corrs[key1][key2][task])\n",
    "                corrs_std[key1][key2][task] = np.std(all_corrs[key1][key2][task])\n",
    "\n",
    "\n",
    "    corrs_mean_all[meta] =   corrs_mean\n",
    "    corrs_std_all[meta] =   corrs_std\n",
    "    for kk in D.keys():\n",
    "        label_dict[kk] = kk\n",
    "    for kk in label_dict.keys():\n",
    "        if '-N' in kk:\n",
    "            label_dict[kk] = kk[:-2]\n",
    "            label_dict[kk] += '-r'\n",
    "corrs_mean = corrs_mean_all \n",
    "corrs_std = corrs_std_all \n",
    "   \n",
    "label_dict['RSM']  = r'SOS ($\\sqrt{v_t}$)'"
   ]
  },
  {
   "cell_type": "markdown",
   "metadata": {},
   "source": []
  },
  {
   "cell_type": "code",
   "execution_count": 9,
   "metadata": {},
   "outputs": [],
   "source": [
    "meta_dict ={'':'SI', 'no-re':'SI(no init)', 'reg0':'SI(c=0)',}\n",
    "colors_meta = ['xkcd:purple', 'xkcd:grey']\n",
    "meta_list = ['no-re','reg0']\n",
    "plot_name = 'SI_SOS_controls_rescale'\n",
    "y_t = [0.0,0.5,1.0]\n",
    "size = [6,4]\n"
   ]
  },
  {
   "cell_type": "code",
   "execution_count": 10,
   "metadata": {},
   "outputs": [
    {
     "name": "stdout",
     "output_type": "stream",
     "text": [
      "SI_SOS_controls_rescale\n"
     ]
    },
    {
     "data": {
      "image/png": "[encoded data removed]",
      "text/plain": [
       "<Figure size 432x288 with 1 Axes>"
      ]
     },
     "metadata": {
      "needs_background": "light"
     },
     "output_type": "display_data"
    }
   ],
   "source": [
    "fig, ax = plt.subplots(figsize=size)\n",
    "fs = 20 #fontsize\n",
    "save_fig = True\n",
    "\n",
    "\n",
    "#compare SI to controls\n",
    "a, b = ('SI-N', 'RSM')\n",
    "jj = -0.5\n",
    "for m,c in zip(meta_list, colors_meta):\n",
    "    x_axis = np.arange(1,len(corrs_mean[m][a][b])+1,1)\n",
    "    y, y_err = [], []\n",
    "    for task in range(len(x_axis)):\n",
    "        y.append( corrs_mean[m][a][b][task] )\n",
    "        y_err.append( corrs_std[m][a][b][task]/np.sqrt(5) ) #division by sqrt 5 to turn st-dev into stderr\n",
    "    label = meta_dict[m]+' - SOS' \n",
    "    ax.errorbar(x_axis+jj*0.1, y, yerr=y_err, capsize=2, fmt='*--', color=c, label=label)\n",
    "    jj+=1\n",
    "\n",
    " \n",
    "#normal SI\n",
    "plotted_pairs = [('SI-N', 'RSM'), ('SIB-N', 'RSM'), ('SIU-N', 'RSM')]\n",
    "colors = ['xkcd:blue', 'xkcd:green', 'xkcd:brown']\n",
    "m=''\n",
    "jj = -1\n",
    "for (a,b), c in zip(plotted_pairs, colors):\n",
    "    x_axis = np.arange(1,len(corrs_mean[m][a][b])+1,1)\n",
    "    y, y_err = [], []\n",
    "    for task in range(len(x_axis)):\n",
    "        y.append( corrs_mean[m][a][b][task] )\n",
    "        y_err.append( corrs_std[m][a][b][task]/np.sqrt(5) ) #division by sqrt 5 to turn st-dev into stderr\n",
    "    label = label_dict[a]+' - ' +label_dict[b]\n",
    "    ax.errorbar(x_axis+jj*0.1, y, yerr=y_err, capsize=2, fmt='*-', color=c)\n",
    "    jj+=1\n",
    "\n",
    "#legend, labels etc    \n",
    "ax.legend(fontsize=fs,loc=[0.3,0.55])\n",
    "ax.set_xlabel('Task (Split CIFAR)', fontsize=fs)\n",
    "ax.set_ylabel('Pearson Corr.', fontsize=fs)\n",
    "#yticks and axis\n",
    "ax.set_yticks(y_t)\n",
    "ax.set_yticklabels(y_t, fontsize=15)\n",
    "ax.set_ylim([y_t[0], y_t[-1]+0.01])\n",
    "fig.show()\n",
    "print(plot_name)\n",
    "if save_fig:\n",
    "    path = os.path.expanduser('~/figures/')\n",
    "    name2 = 'CIFAR_corr_'+plot_name+'.png'\n",
    "    plt.savefig(path+name2, bbox_inches='tight')\n",
    "\n"
   ]
  },
  {
   "cell_type": "code",
   "execution_count": null,
   "metadata": {},
   "outputs": [],
   "source": [
    "\n"
   ]
  },
  {
   "cell_type": "code",
   "execution_count": null,
   "metadata": {},
   "outputs": [],
   "source": []
  }
 ],
 "metadata": {
  "kernelspec": {
   "display_name": "Python 3",
   "language": "python",
   "name": "python3"
  },
  "language_info": {
   "codemirror_mode": {
    "name": "ipython",
    "version": 3
   },
   "file_extension": ".py",
   "mimetype": "text/x-python",
   "name": "python",
   "nbconvert_exporter": "python",
   "pygments_lexer": "ipython3",
   "version": "3.6.9"
  }
 },
 "nbformat": 4,
 "nbformat_minor": 2
}
