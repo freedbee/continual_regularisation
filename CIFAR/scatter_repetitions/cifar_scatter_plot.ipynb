{
 "cells": [
  {
   "cell_type": "code",
   "execution_count": 6,
   "metadata": {},
   "outputs": [],
   "source": [
    "import pickle\n",
    "import scipy.stats\n",
    "import numpy as np\n",
    "import matplotlib.pyplot as plt\n",
    "import matplotlib as mpl\n",
    "import os\n",
    "import utils \n",
    "%matplotlib inline\n",
    "\n",
    "name = 'all_importances_SI_'\n",
    "meta = 'run_new'  \n",
    "seed = 100\n",
    "with open(name+meta+str(seed)+'.pickle', 'rb') as f:\n",
    "    D = pickle.load(f)"
   ]
  },
  {
   "cell_type": "code",
   "execution_count": 7,
   "metadata": {},
   "outputs": [],
   "source": [
    "a = D\n",
    "if 'SI' in name:\n",
    "    a['RSM'] = np.sqrt(a['expSM']) #SOS\n",
    "    a['SOS'] = np.sqrt(a['expSM']) #SOS\n",
    "    a['SI-N'] = np.maximum(a['SI'],0)/(a['lengths']**2+0.001)\n",
    "    a['SIB-N'] = np.maximum(a['SIB'],0)/(a['lengths']**2 + 0.001)\n",
    "    a['SIU-N'] = np.maximum(a['SIU'],0)/(a['lengths']**2 + 0.001)\n",
    "if 'MAS' in name:\n",
    "    a = D\n",
    "    for val in a.values():\n",
    "        val /= 1000 #normalise\n",
    "    a['rEWC'] = np.sqrt(a['EWC'])\n",
    "    \n",
    "label_dict = {}\n",
    "for kk in a.keys():\n",
    "    label_dict[kk] = kk\n",
    "for kk in label_dict.keys():\n",
    "    if '-N' in kk:\n",
    "        label_dict[kk] = kk[:-2]\n",
    "label_dict['RSM']  = r'SOS ($\\sqrt{v_t}$)'\n",
    "label_dict['rEWC']  = r'$\\sqrt{Fisher}$'\n",
    "label_dict['AF']  = r'AF  =  $\\mathbb{E}[|g|]$'"
   ]
  },
  {
   "cell_type": "code",
   "execution_count": null,
   "metadata": {},
   "outputs": [],
   "source": []
  },
  {
   "cell_type": "code",
   "execution_count": 23,
   "metadata": {},
   "outputs": [
    {
     "name": "stdout",
     "output_type": "stream",
     "text": [
      "Pearson correlation on task 1 between SI and SOS is: 0.96 0.0\n"
     ]
    },
    {
     "data": {
      "image/png": "[encoded data removed]",
      "text/plain": [
       "<Figure size 432x288 with 1 Axes>"
      ]
     },
     "metadata": {
      "needs_background": "light"
     },
     "output_type": "display_data"
    }
   ],
   "source": [
    "fs = 20 #fontsize for legend, xy-label\n",
    "save_fig = False\n",
    "subsample_weights = True\n",
    "\n",
    "#make sure the first cell imports the right importances (SI or MAS related)\n",
    "#if you want to plot SOS, use x='RSM' (or y='RSM') or SOS\n",
    "#if you want to plot sqrt(Fisher), use 'rEWC'\n",
    "#if you want to plot SI, SIU, SIB after the rescaling (see paper) use SI-N, SIB-N, SIU-N\n",
    "\n",
    "x = 'SI'\n",
    "y = 'SOS'\n",
    "\n",
    "\n",
    "\n",
    "for task in range(1):\n",
    "     #chose a random sample of weights to make plotting faster. If False, all weights are plotted\n",
    "    n_subsample = int(1e5) #chose number of randomly sampled weights\n",
    "\n",
    "    # plot it\n",
    "    x_data = a[x][task,:]\n",
    "    y_data = (a[y][task,:])\n",
    "    rho, pp = scipy.stats.pearsonr(x_data, y_data)\n",
    "    rho = int(rho*100)/100\n",
    "    print('Pearson correlation on task', task+1, 'between',x,'and',y, 'is:', rho, pp)\n",
    "\n",
    "    if subsample_weights:\n",
    "        permuted = np.random.permutation(len(x_data))\n",
    "        displayed = permuted[:n_subsample]\n",
    "        x_data = x_data[displayed]\n",
    "        y_data = y_data[displayed]\n",
    "    eps = 1e-7\n",
    "    fig, ax = plt.subplots()\n",
    "    ax.scatter(x_data, y_data, s=5,alpha=1)\n",
    "    ax.set_xlabel(label_dict[x], fontsize=fs)\n",
    "    ax.set_ylabel(label_dict[y], fontsize=fs)\n",
    "    ax.set_title('CIFAR Task '+ str(task+1)+',  r='+str(rho), fontsize=fs)\n",
    "    marg = 0.05\n",
    "    ax.set_xlim([min(x_data)-marg*(max(x_data)-min(x_data)), max(x_data)+marg*(max(x_data)-min(x_data))])\n",
    "    ax.set_ylim([min(y_data)-marg*(max(y_data)-min(y_data)), max(y_data)+marg*(max(y_data)-min(y_data))])\n",
    "    #ax.set_xlim([0, 40])\n",
    "    #ax.set_ylim([0, 20])\n",
    "   \n",
    "    fig.show()\n",
    "    if save_fig:\n",
    "        path = os.path.expanduser('~/figures/')\n",
    "        name = 'CIFAR_scatter_'+str(task+1)+'_'+x+'_'+y+'.png'\n",
    "        plt.savefig(path+name, bbox_inches='tight')\n"
   ]
  },
  {
   "cell_type": "code",
   "execution_count": null,
   "metadata": {},
   "outputs": [],
   "source": []
  },
  {
   "cell_type": "code",
   "execution_count": 51,
   "metadata": {},
   "outputs": [],
   "source": [
    "\n"
   ]
  },
  {
   "cell_type": "code",
   "execution_count": 20,
   "metadata": {},
   "outputs": [],
   "source": []
  },
  {
   "cell_type": "code",
   "execution_count": null,
   "metadata": {},
   "outputs": [],
   "source": []
  },
  {
   "cell_type": "markdown",
   "metadata": {},
   "source": []
  },
  {
   "cell_type": "code",
   "execution_count": null,
   "metadata": {},
   "outputs": [],
   "source": []
  },
  {
   "cell_type": "markdown",
   "metadata": {},
   "source": []
  },
  {
   "cell_type": "code",
   "execution_count": null,
   "metadata": {},
   "outputs": [],
   "source": []
  },
  {
   "cell_type": "code",
   "execution_count": null,
   "metadata": {},
   "outputs": [],
   "source": []
  },
  {
   "cell_type": "code",
   "execution_count": null,
   "metadata": {},
   "outputs": [],
   "source": [
    "\n"
   ]
  },
  {
   "cell_type": "code",
   "execution_count": null,
   "metadata": {},
   "outputs": [],
   "source": []
  }
 ],
 "metadata": {
  "kernelspec": {
   "display_name": "Python 3",
   "language": "python",
   "name": "python3"
  },
  "language_info": {
   "codemirror_mode": {
    "name": "ipython",
    "version": 3
   },
   "file_extension": ".py",
   "mimetype": "text/x-python",
   "name": "python",
   "nbconvert_exporter": "python",
   "pygments_lexer": "ipython3",
   "version": "3.6.9"
  }
 },
 "nbformat": 4,
 "nbformat_minor": 2
}
