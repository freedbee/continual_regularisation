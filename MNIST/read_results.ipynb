{
 "cells": [
  {
   "cell_type": "code",
   "execution_count": 2,
   "metadata": {},
   "outputs": [
    {
     "name": "stdout",
     "output_type": "stream",
     "text": [
      "Reporting (mean, std, number of runs) for given configuration.\n"
     ]
    }
   ],
   "source": [
    "import numpy as np\n",
    "print('Reporting (mean, std, number of runs) for given configuration.')\n",
    "\n",
    "#the results will be grouped by the Parameters in `selected_hps`\n",
    "selected_hps = ['method'] \n",
    "#for each group as determined by `selected_hps`, the runs which agree in the \n",
    "#HPs of `listed_hp`will be grouped together and average + std of this group will be reported\n",
    "listed_hps = ['c', 're_init_model'] \n",
    "\n",
    "#filt can serve as a filter to only show results with a certain property. \n",
    "# Can be used e.g. to filter results by architecture.\n",
    "#filt = [('first_hidden', '2000'), ('second_hidden', '2000')]\n",
    "filt = []\n",
    "if not filt == []:\n",
    "    print('\\nOnly results satisfying the following are included:')\n",
    "    print(filt)\n",
    "    print('\\n\\n')\n",
    "\n",
    "\n",
    "\n",
    "#rest is automatic\n",
    "with open('summary.txt', 'r') as f:\n",
    "    contents = f.read()\n",
    "dict_all = {}\n",
    "\n",
    "for run in contents.split('\\n'):\n",
    "    if run == '':\n",
    "        break  \n",
    "    #print(run.split(' '))    \n",
    "    result, hps = run.split(' ')\n",
    "    hps = hps.split('__')\n",
    "    hps2 = hps.copy()\n",
    "    hps_dict = {}\n",
    "    hps_show = []\n",
    "    for item in hps:\n",
    "        item = item.split('=')\n",
    "        if item[0] in selected_hps:\n",
    "            hps_dict[item[0]]=item[1]\n",
    "        if item[0] in listed_hps:\n",
    "            #hps_show.append(item[1])\n",
    "            hps_show.append(item[0]+'='+item[1])\n",
    "    cont = True\n",
    "    for x in filt:\n",
    "        cont = cont and (hps_dict[x[0]]==x[1])\n",
    "    if cont:    \n",
    "        hp_list = tuple(hps_dict.values())\n",
    "        hp_list = []\n",
    "        for item2 in hps_dict.items():\n",
    "            hp_list.append(str(item2[0])+'='+str(item2[1]))\n",
    "\n",
    "        hp_list = tuple(sorted(hp_list))\n",
    "        if hp_list not in dict_all:\n",
    "            dict_all[hp_list] = {}\n",
    "        if tuple(hps_show) not in dict_all[hp_list]:\n",
    "            dict_all[hp_list][tuple(hps_show)] = []\n",
    "        dict_all[hp_list][tuple(hps_show)].append(float(result))\n",
    "\n",
    "for config in dict_all.items():    \n",
    "    summary = []    \n",
    "    for item in config[1].items():\n",
    "        #print(item[0])\n",
    "        #print(item[1])\n",
    "        summary.append( (item[0], 100*np.mean(item[1]), 100*np.std(item[1]), len(item[1])) )\n",
    "    summary = sorted(summary, key=lambda x: x[1])\n",
    "    print('\\n',config[0])\n",
    "    [print(x) for x in summary]\n"
   ]
  },
  {
   "cell_type": "code",
   "execution_count": null,
   "metadata": {},
   "outputs": [],
   "source": []
  }
 ],
 "metadata": {
  "kernelspec": {
   "display_name": "Python 3",
   "language": "python",
   "name": "python3"
  },
  "language_info": {
   "codemirror_mode": {
    "name": "ipython",
    "version": 3
   },
   "file_extension": ".py",
   "mimetype": "text/x-python",
   "name": "python",
   "nbconvert_exporter": "python",
   "pygments_lexer": "ipython3",
   "version": "3.6.8"
  }
 },
 "nbformat": 4,
 "nbformat_minor": 2
}
