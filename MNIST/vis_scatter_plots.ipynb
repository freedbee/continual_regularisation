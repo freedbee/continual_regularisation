{
 "cells": [
  {
   "cell_type": "markdown",
   "metadata": {},
   "source": [
    "# Load Data\n",
    "You can decide below whether to use the data already provided or your own data.\n",
    "The data provided here contains the information of 10000 randomly sampled weights to keep file size managable.\n",
    "\n",
    "To use your own data, run `compare_measures_scatter_plots.py` and change the line below\n",
    "`meta = 'run_old_subsampled'`\n",
    "to \n",
    "`meta = 'run_new'`"
   ]
  },
  {
   "cell_type": "code",
   "execution_count": null,
   "metadata": {},
   "outputs": [],
   "source": [
    "import pickle\n",
    "import scipy.stats\n",
    "import numpy as np\n",
    "import matplotlib.pyplot as plt\n",
    "import matplotlib as mpl\n",
    "import os\n",
    "from utils import intensity_plot\n",
    "%matplotlib inline\n",
    "name = 'all_measures_'\n",
    "meta = 'run_old_subsampled'\n",
    "  \n",
    "with open(name+meta+'.pickle', 'rb') as f:\n",
    "    D = pickle.load(f)"
   ]
  },
  {
   "cell_type": "markdown",
   "metadata": {},
   "source": [
    "# Scatter Plot"
   ]
  },
  {
   "cell_type": "code",
   "execution_count": 6,
   "metadata": {},
   "outputs": [
    {
     "name": "stdout",
     "output_type": "stream",
     "text": [
      "Pearson correlation on task 0 between MAS and AF is: (0.9632358901474252, 0.0)\n"
     ]
    },
    {
     "data": {
      "image/png": "[encoded data removed]",
      "text/plain": [
       "<Figure size 432x288 with 1 Axes>"
      ]
     },
     "metadata": {
      "needs_background": "light"
     },
     "output_type": "display_data"
    }
   ],
   "source": [
    "# choose what should be plotted on x-axis and y-axis\n",
    "# you can choose SI, SIB, SIU, OnAF, AF, EWC, MAS, MASX \n",
    "task = 0\n",
    "x = 'MAS'\n",
    "y = 'AF'\n",
    "#chose a random sample of weights to make plotting faster. If False, all weights are plotted\n",
    "subsample_weights = True \n",
    "#chose number of randomly sampled weights (only works if subsample_weights = True)\n",
    "n_subsample = int(1e4) \n",
    "\n",
    "\n",
    "\n",
    "\n",
    "# plot it\n",
    "x_data = np.asarray(D[x][task])\n",
    "y_data = np.asarray(D[y][task])\n",
    "print('Pearson correlation on task', task, 'between',x,'and',y, 'is:', scipy.stats.pearsonr(x_data, y_data))\n",
    "\n",
    "if subsample_weights:\n",
    "    permuted = np.random.permutation(len(x_data))\n",
    "    displayed = permuted[:n_subsample]\n",
    "    x_data = x_data[displayed]\n",
    "    y_data = y_data[displayed]\n",
    "\n",
    "fig, ax = plt.subplots()\n",
    "ax.scatter(x_data,y_data,s=3)\n",
    "ax.set_xlabel(x)\n",
    "ax.set_ylabel(y)\n",
    "ax.set_title('Task '+ str(task))\n",
    "marg = 0.05\n",
    "ax.set_xlim([min(x_data)-marg*(max(x_data)-min(x_data)), max(x_data)+marg*(max(x_data)-min(x_data))])\n",
    "ax.set_ylim([min(y_data)-marg*(max(y_data)-min(y_data)), max(y_data)+marg*(max(y_data)-min(y_data))])\n",
    "fig.show()\n"
   ]
  },
  {
   "cell_type": "markdown",
   "metadata": {},
   "source": [
    "# Intensity Plot"
   ]
  },
  {
   "cell_type": "code",
   "execution_count": 3,
   "metadata": {},
   "outputs": [
    {
     "name": "stdout",
     "output_type": "stream",
     "text": [
      "Pearson correlation on task 0 between SI and OnAF is: (0.9351919651499623, 0.0)\n",
      "columns normalised\n"
     ]
    },
    {
     "data": {
      "image/png": "[encoded data removed]",
      "text/plain": [
       "<Figure size 432x288 with 1 Axes>"
      ]
     },
     "metadata": {},
     "output_type": "display_data"
    }
   ],
   "source": [
    "#same options as for scatter plot.\n",
    "task = 0\n",
    "x = 'SI'\n",
    "y = 'OnAF'\n",
    "subsample_weights = True #chose a random sample of weights to make plotting faster. If False, all weights are plotted\n",
    "n_subsample = int(1e5) #chose number of randomly sampled weights\n",
    "\n",
    "\n",
    "x_data = np.asarray(D[x][task])\n",
    "y_data = np.asarray(D[y][task])\n",
    "print('Pearson correlation on task', task, 'between',x,'and',y, 'is:', scipy.stats.pearsonr(x_data, y_data))\n",
    "\n",
    "if subsample_weights:\n",
    "    permuted = np.random.permutation(len(x_data))\n",
    "    displayed = permuted[:n_subsample]\n",
    "    x_data = x_data[displayed]\n",
    "    y_data = y_data[displayed]\n",
    "\n",
    "n_bins = 50\n",
    "intensity_plot(x_data,y_data,n_bins,xlabel=x,ylabel=y,title='Task '+str(task))"
   ]
  }
 ],
 "metadata": {
  "kernelspec": {
   "display_name": "Python 3",
   "language": "python",
   "name": "python3"
  },
  "language_info": {
   "codemirror_mode": {
    "name": "ipython",
    "version": 3
   },
   "file_extension": ".py",
   "mimetype": "text/x-python",
   "name": "python",
   "nbconvert_exporter": "python",
   "pygments_lexer": "ipython3",
   "version": "3.6.8"
  }
 },
 "nbformat": 4,
 "nbformat_minor": 2
}
